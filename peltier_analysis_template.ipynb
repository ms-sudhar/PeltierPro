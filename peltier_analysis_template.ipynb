{
 "cells": [
  {
   "cell_type": "markdown",
   "metadata": {},
   "source": [
    "# Peltier Module Data Analysis\n",
    "\n",
    "This notebook analyzes the temperature, humidity, and distance data logged to ThingSpeak."
   ]
  },
  {
   "cell_type": "code",
   "execution_count": null,
   "metadata": {},
   "outputs": [],
   "source": [
    "import pandas as pd\n",
    "import matplotlib.pyplot as plt\n",
    "\n",
    "\n",
    "data = pd.read_csv('thingspeak_data.csv')  # Simulated CSV\n",
    "\n",
    "\n",
    "\n",
    "# Plot temperature trends\n",
    "plt.figure(figsize=(10, 5))\n",
    "plt.plot(data['field2'], label='DS18B20 Temp')\n",
    "plt.plot(data['field3'], label='DHT11 Temp')\n",
    "plt.xlabel('Sample')\n",
    "plt.ylabel('Temperature (°C)')\n",
    "plt.title('Temperature Over Time')\n",
    "plt.legend()\n",
    "plt.grid(True)\n",
    "plt.show()"
   ]
  }
 ],
 "metadata": {
  "kernelspec": {
   "display_name": "Python 3",
   "language": "python",
   "name": "python3"
  },
  "language_info": {
   "name": "python",
   "version": "3.8.10"
  }
 },
 "nbformat": 4,
 "nbformat_minor": 2
}
